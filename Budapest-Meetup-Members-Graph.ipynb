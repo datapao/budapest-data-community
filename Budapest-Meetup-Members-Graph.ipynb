{
 "cells": [
  {
   "cell_type": "markdown",
   "metadata": {},
   "source": [
    "# <img src=\"http://datapao.com/wp-content/themes/datapao/img/header.svg\" style=\"display:inline\"/>  Budapest Data Meetups\n",
    "\n",
    "This notebook contains the overview of the Budapest Data community through the numbers of the [meetup.com](https://meetup.com).\n",
    "\n",
    "#### Data source\n",
    "If you are interested in the source data, visit [our blog](https://datapao.com/blog/) where we publish our data sources. <br/>\n",
    "On our blog post we share the work of others too! Send us your take on this data.\n",
    "\n",
    "\n",
    "\n",
    "#### Source code\n",
    "This noteboook and the crawlers are available on our [Github site](https://github.com/datapao/budapest-data-community/). \n",
    "\n",
    "\n",
    "---\n",
    "<img src=\"logo.png\" alt=\"Drawing\" style=\"width: 100px;\"/>"
   ]
  },
  {
   "cell_type": "code",
   "execution_count": 94,
   "metadata": {},
   "outputs": [],
   "source": [
    "%matplotlib inline\n",
    "import pandas as pd\n",
    "import matplotlib as plt\n",
    "import numpy as np"
   ]
  },
  {
   "cell_type": "markdown",
   "metadata": {},
   "source": [
    "# Meetup groups graph"
   ]
  },
  {
   "cell_type": "markdown",
   "metadata": {},
   "source": [
    "## Edges"
   ]
  },
  {
   "cell_type": "code",
   "execution_count": 95,
   "metadata": {},
   "outputs": [],
   "source": [
    "members = pd.read_csv(\"data/members_budapest_data.csv\", delimiter=\";\", names=[\"country\",\"city\",\"joined\",\"name\",\"visited\",\"id\",\"group\"])"
   ]
  },
  {
   "cell_type": "code",
   "execution_count": 96,
   "metadata": {},
   "outputs": [
    {
     "data": {
      "text/html": [
       "<div>\n",
       "<style>\n",
       "    .dataframe thead tr:only-child th {\n",
       "        text-align: right;\n",
       "    }\n",
       "\n",
       "    .dataframe thead th {\n",
       "        text-align: left;\n",
       "    }\n",
       "\n",
       "    .dataframe tbody tr th {\n",
       "        vertical-align: top;\n",
       "    }\n",
       "</style>\n",
       "<table border=\"1\" class=\"dataframe\">\n",
       "  <thead>\n",
       "    <tr style=\"text-align: right;\">\n",
       "      <th></th>\n",
       "      <th>country</th>\n",
       "      <th>city</th>\n",
       "      <th>joined</th>\n",
       "      <th>name</th>\n",
       "      <th>visited</th>\n",
       "      <th>id</th>\n",
       "      <th>group</th>\n",
       "    </tr>\n",
       "  </thead>\n",
       "  <tbody>\n",
       "    <tr>\n",
       "      <th>0</th>\n",
       "      <td>hu</td>\n",
       "      <td>Budapest</td>\n",
       "      <td>1464271220000</td>\n",
       "      <td>A. Asbot</td>\n",
       "      <td>1500461845000</td>\n",
       "      <td>186451270.0</td>\n",
       "      <td>budapest_data_science</td>\n",
       "    </tr>\n",
       "    <tr>\n",
       "      <th>1</th>\n",
       "      <td>hu</td>\n",
       "      <td>Budapest</td>\n",
       "      <td>1432103533000</td>\n",
       "      <td>A.J. Lumijärvi</td>\n",
       "      <td>1478694290000</td>\n",
       "      <td>186768573.0</td>\n",
       "      <td>budapest_data_science</td>\n",
       "    </tr>\n",
       "    <tr>\n",
       "      <th>2</th>\n",
       "      <td>hu</td>\n",
       "      <td>Budapest</td>\n",
       "      <td>1474229938000</td>\n",
       "      <td>Ábel Fóthi</td>\n",
       "      <td>1478776809000</td>\n",
       "      <td>151890652.0</td>\n",
       "      <td>budapest_data_science</td>\n",
       "    </tr>\n",
       "    <tr>\n",
       "      <th>3</th>\n",
       "      <td>hu</td>\n",
       "      <td>Budapest</td>\n",
       "      <td>1422875944000</td>\n",
       "      <td>Ábel Melinda</td>\n",
       "      <td>1422875944000</td>\n",
       "      <td>183778449.0</td>\n",
       "      <td>budapest_data_science</td>\n",
       "    </tr>\n",
       "    <tr>\n",
       "      <th>4</th>\n",
       "      <td>hu</td>\n",
       "      <td>Budapest</td>\n",
       "      <td>1469042635000</td>\n",
       "      <td>Abel Oszwald</td>\n",
       "      <td>1469224448000</td>\n",
       "      <td>105964922.0</td>\n",
       "      <td>budapest_data_science</td>\n",
       "    </tr>\n",
       "  </tbody>\n",
       "</table>\n",
       "</div>"
      ],
      "text/plain": [
       "  country      city         joined            name        visited  \\\n",
       "0      hu  Budapest  1464271220000        A. Asbot  1500461845000   \n",
       "1      hu  Budapest  1432103533000  A.J. Lumijärvi  1478694290000   \n",
       "2      hu  Budapest  1474229938000      Ábel Fóthi  1478776809000   \n",
       "3      hu  Budapest  1422875944000    Ábel Melinda  1422875944000   \n",
       "4      hu  Budapest  1469042635000    Abel Oszwald  1469224448000   \n",
       "\n",
       "            id                  group  \n",
       "0  186451270.0  budapest_data_science  \n",
       "1  186768573.0  budapest_data_science  \n",
       "2  151890652.0  budapest_data_science  \n",
       "3  183778449.0  budapest_data_science  \n",
       "4  105964922.0  budapest_data_science  "
      ]
     },
     "execution_count": 96,
     "metadata": {},
     "output_type": "execute_result"
    }
   ],
   "source": [
    "members.head()"
   ]
  },
  {
   "cell_type": "code",
   "execution_count": 97,
   "metadata": {},
   "outputs": [],
   "source": [
    "members = members.drop(['country','city'], axis=1)"
   ]
  },
  {
   "cell_type": "code",
   "execution_count": 98,
   "metadata": {
    "scrolled": true
   },
   "outputs": [
    {
     "data": {
      "text/plain": [
       "name\n",
       "Arató Bence          25\n",
       "Andras Nagy          25\n",
       "Milan Dobri          23\n",
       "Endre Adam           23\n",
       "Csaba Peter          22\n",
       "Zsolt Tóth           22\n",
       "Zoltán Polgár        22\n",
       "Andrew John Lowe     22\n",
       "Zoltan Ludanyi       21\n",
       "Samu Imre            21\n",
       "Siddharth Pandit     20\n",
       "Zoltan C. Toth       20\n",
       "Dániel Berecz        20\n",
       "MobilPhone Andras    20\n",
       "Zoltan Prekopcsak    20\n",
       "Name: group, dtype: int64"
      ]
     },
     "execution_count": 98,
     "metadata": {},
     "output_type": "execute_result"
    }
   ],
   "source": [
    "members[members.name.str.contains(\" \")].groupby(\"name\")[\"group\"].count().sort_values(ascending=False).head(15)"
   ]
  },
  {
   "cell_type": "code",
   "execution_count": 99,
   "metadata": {},
   "outputs": [],
   "source": [
    "c = members.merge(members, on=\"name\")[['name','group_x','group_y']]"
   ]
  },
  {
   "cell_type": "code",
   "execution_count": 100,
   "metadata": {},
   "outputs": [],
   "source": [
    "c = c[c.group_x != c.group_y]"
   ]
  },
  {
   "cell_type": "code",
   "execution_count": 101,
   "metadata": {},
   "outputs": [],
   "source": [
    "c[\"const\"] = 1"
   ]
  },
  {
   "cell_type": "code",
   "execution_count": 102,
   "metadata": {},
   "outputs": [],
   "source": [
    "edges = c.groupby(['group_x', 'group_y'], as_index=False)['const'].count()"
   ]
  },
  {
   "cell_type": "code",
   "execution_count": 103,
   "metadata": {},
   "outputs": [],
   "source": [
    "edges = edges.rename(columns={\"group_x\": \"Source\", \"group_y\": \"Target\", \"const\": \"Weight\"})"
   ]
  },
  {
   "cell_type": "code",
   "execution_count": 104,
   "metadata": {},
   "outputs": [],
   "source": [
    "edges[\"Type\"]=\"Undirected\""
   ]
  },
  {
   "cell_type": "code",
   "execution_count": 105,
   "metadata": {},
   "outputs": [
    {
     "data": {
      "text/html": [
       "<div>\n",
       "<style>\n",
       "    .dataframe thead tr:only-child th {\n",
       "        text-align: right;\n",
       "    }\n",
       "\n",
       "    .dataframe thead th {\n",
       "        text-align: left;\n",
       "    }\n",
       "\n",
       "    .dataframe tbody tr th {\n",
       "        vertical-align: top;\n",
       "    }\n",
       "</style>\n",
       "<table border=\"1\" class=\"dataframe\">\n",
       "  <thead>\n",
       "    <tr style=\"text-align: right;\">\n",
       "      <th></th>\n",
       "      <th>Source</th>\n",
       "      <th>Target</th>\n",
       "      <th>Weight</th>\n",
       "      <th>Type</th>\n",
       "    </tr>\n",
       "  </thead>\n",
       "  <tbody>\n",
       "    <tr>\n",
       "      <th>0</th>\n",
       "      <td>Big-Data-Budapest</td>\n",
       "      <td>Big-Data-Meetup-Budapest</td>\n",
       "      <td>662</td>\n",
       "      <td>Undirected</td>\n",
       "    </tr>\n",
       "    <tr>\n",
       "      <th>1</th>\n",
       "      <td>Big-Data-Budapest</td>\n",
       "      <td>Budapest-Analytics-Rockstars</td>\n",
       "      <td>453</td>\n",
       "      <td>Undirected</td>\n",
       "    </tr>\n",
       "    <tr>\n",
       "      <th>2</th>\n",
       "      <td>Big-Data-Budapest</td>\n",
       "      <td>Budapest-BI-Meetup</td>\n",
       "      <td>401</td>\n",
       "      <td>Undirected</td>\n",
       "    </tr>\n",
       "    <tr>\n",
       "      <th>3</th>\n",
       "      <td>Big-Data-Budapest</td>\n",
       "      <td>Budapest-Cassandra-Users</td>\n",
       "      <td>45</td>\n",
       "      <td>Undirected</td>\n",
       "    </tr>\n",
       "    <tr>\n",
       "      <th>4</th>\n",
       "      <td>Big-Data-Budapest</td>\n",
       "      <td>Budapest-Data-Projects-Meetup</td>\n",
       "      <td>307</td>\n",
       "      <td>Undirected</td>\n",
       "    </tr>\n",
       "  </tbody>\n",
       "</table>\n",
       "</div>"
      ],
      "text/plain": [
       "              Source                         Target  Weight        Type\n",
       "0  Big-Data-Budapest       Big-Data-Meetup-Budapest     662  Undirected\n",
       "1  Big-Data-Budapest   Budapest-Analytics-Rockstars     453  Undirected\n",
       "2  Big-Data-Budapest             Budapest-BI-Meetup     401  Undirected\n",
       "3  Big-Data-Budapest       Budapest-Cassandra-Users      45  Undirected\n",
       "4  Big-Data-Budapest  Budapest-Data-Projects-Meetup     307  Undirected"
      ]
     },
     "execution_count": 105,
     "metadata": {},
     "output_type": "execute_result"
    }
   ],
   "source": [
    "edges.head()"
   ]
  },
  {
   "cell_type": "code",
   "execution_count": 106,
   "metadata": {},
   "outputs": [],
   "source": [
    "edges.to_csv('data/meetup-groups-graph/edges.csv', header=True, index=False)"
   ]
  },
  {
   "cell_type": "markdown",
   "metadata": {},
   "source": [
    "## Nodes"
   ]
  },
  {
   "cell_type": "code",
   "execution_count": 107,
   "metadata": {},
   "outputs": [],
   "source": [
    "meetups = pd.read_csv(\"data/meetup_groups_budapest_data.csv\", names=[\"rating\",\"name\",\"id\",\"urlname\",\"member\"],delimiter=\";\")\n",
    "meetups = meetups[[\"urlname\",\"name\",\"member\"]]"
   ]
  },
  {
   "cell_type": "code",
   "execution_count": 108,
   "metadata": {},
   "outputs": [],
   "source": [
    "meetups = meetups.rename(columns={\"urlname\": \"Id\", \"name\": \"Label\", \"member\": \"Weight\"})"
   ]
  },
  {
   "cell_type": "code",
   "execution_count": 109,
   "metadata": {},
   "outputs": [
    {
     "data": {
      "text/html": [
       "<div>\n",
       "<style>\n",
       "    .dataframe thead tr:only-child th {\n",
       "        text-align: right;\n",
       "    }\n",
       "\n",
       "    .dataframe thead th {\n",
       "        text-align: left;\n",
       "    }\n",
       "\n",
       "    .dataframe tbody tr th {\n",
       "        vertical-align: top;\n",
       "    }\n",
       "</style>\n",
       "<table border=\"1\" class=\"dataframe\">\n",
       "  <thead>\n",
       "    <tr style=\"text-align: right;\">\n",
       "      <th></th>\n",
       "      <th>Id</th>\n",
       "      <th>Label</th>\n",
       "      <th>Weight</th>\n",
       "    </tr>\n",
       "  </thead>\n",
       "  <tbody>\n",
       "    <tr>\n",
       "      <th>0</th>\n",
       "      <td>budapest_data_science</td>\n",
       "      <td>Budapest Data Science Meetup</td>\n",
       "      <td>2711</td>\n",
       "    </tr>\n",
       "    <tr>\n",
       "      <th>1</th>\n",
       "      <td>HUG-MSSQL</td>\n",
       "      <td>HUG-MSSQL</td>\n",
       "      <td>399</td>\n",
       "    </tr>\n",
       "    <tr>\n",
       "      <th>2</th>\n",
       "      <td>Hungarian-nlp</td>\n",
       "      <td>Hungarian Natural Language Processing Meetup</td>\n",
       "      <td>968</td>\n",
       "    </tr>\n",
       "    <tr>\n",
       "      <th>3</th>\n",
       "      <td>KURT_Akademia</td>\n",
       "      <td>KÜRT Akadémia meetupok</td>\n",
       "      <td>484</td>\n",
       "    </tr>\n",
       "    <tr>\n",
       "      <th>4</th>\n",
       "      <td>Big-Data-Meetup-Budapest</td>\n",
       "      <td>Budapest Big Data Meetup</td>\n",
       "      <td>1906</td>\n",
       "    </tr>\n",
       "  </tbody>\n",
       "</table>\n",
       "</div>"
      ],
      "text/plain": [
       "                         Id                                         Label  \\\n",
       "0     budapest_data_science                  Budapest Data Science Meetup   \n",
       "1                 HUG-MSSQL                                     HUG-MSSQL   \n",
       "2             Hungarian-nlp  Hungarian Natural Language Processing Meetup   \n",
       "3             KURT_Akademia                        KÜRT Akadémia meetupok   \n",
       "4  Big-Data-Meetup-Budapest                      Budapest Big Data Meetup   \n",
       "\n",
       "   Weight  \n",
       "0    2711  \n",
       "1     399  \n",
       "2     968  \n",
       "3     484  \n",
       "4    1906  "
      ]
     },
     "execution_count": 109,
     "metadata": {},
     "output_type": "execute_result"
    }
   ],
   "source": [
    "meetups.head()"
   ]
  },
  {
   "cell_type": "code",
   "execution_count": 110,
   "metadata": {},
   "outputs": [],
   "source": [
    "meetups.to_csv('data/meetup-groups-graph/nodes.csv', header=True, index=False)"
   ]
  },
  {
   "cell_type": "markdown",
   "metadata": {},
   "source": [
    "# Social fabric graph "
   ]
  },
  {
   "cell_type": "code",
   "execution_count": 111,
   "metadata": {},
   "outputs": [],
   "source": [
    "members = pd.read_csv(\"data/members_budapest_data.csv\", delimiter=\";\", names=[\"country\",\"city\",\"joined\",\"name\",\"visited\",\"id\",\"group\"])"
   ]
  },
  {
   "cell_type": "code",
   "execution_count": 112,
   "metadata": {},
   "outputs": [
    {
     "data": {
      "text/html": [
       "<div>\n",
       "<style>\n",
       "    .dataframe thead tr:only-child th {\n",
       "        text-align: right;\n",
       "    }\n",
       "\n",
       "    .dataframe thead th {\n",
       "        text-align: left;\n",
       "    }\n",
       "\n",
       "    .dataframe tbody tr th {\n",
       "        vertical-align: top;\n",
       "    }\n",
       "</style>\n",
       "<table border=\"1\" class=\"dataframe\">\n",
       "  <thead>\n",
       "    <tr style=\"text-align: right;\">\n",
       "      <th></th>\n",
       "      <th>country</th>\n",
       "      <th>city</th>\n",
       "      <th>joined</th>\n",
       "      <th>name</th>\n",
       "      <th>visited</th>\n",
       "      <th>id</th>\n",
       "      <th>group</th>\n",
       "    </tr>\n",
       "  </thead>\n",
       "  <tbody>\n",
       "    <tr>\n",
       "      <th>0</th>\n",
       "      <td>hu</td>\n",
       "      <td>Budapest</td>\n",
       "      <td>1464271220000</td>\n",
       "      <td>A. Asbot</td>\n",
       "      <td>1500461845000</td>\n",
       "      <td>186451270.0</td>\n",
       "      <td>budapest_data_science</td>\n",
       "    </tr>\n",
       "    <tr>\n",
       "      <th>1</th>\n",
       "      <td>hu</td>\n",
       "      <td>Budapest</td>\n",
       "      <td>1432103533000</td>\n",
       "      <td>A.J. Lumijärvi</td>\n",
       "      <td>1478694290000</td>\n",
       "      <td>186768573.0</td>\n",
       "      <td>budapest_data_science</td>\n",
       "    </tr>\n",
       "    <tr>\n",
       "      <th>2</th>\n",
       "      <td>hu</td>\n",
       "      <td>Budapest</td>\n",
       "      <td>1474229938000</td>\n",
       "      <td>Ábel Fóthi</td>\n",
       "      <td>1478776809000</td>\n",
       "      <td>151890652.0</td>\n",
       "      <td>budapest_data_science</td>\n",
       "    </tr>\n",
       "    <tr>\n",
       "      <th>3</th>\n",
       "      <td>hu</td>\n",
       "      <td>Budapest</td>\n",
       "      <td>1422875944000</td>\n",
       "      <td>Ábel Melinda</td>\n",
       "      <td>1422875944000</td>\n",
       "      <td>183778449.0</td>\n",
       "      <td>budapest_data_science</td>\n",
       "    </tr>\n",
       "    <tr>\n",
       "      <th>4</th>\n",
       "      <td>hu</td>\n",
       "      <td>Budapest</td>\n",
       "      <td>1469042635000</td>\n",
       "      <td>Abel Oszwald</td>\n",
       "      <td>1469224448000</td>\n",
       "      <td>105964922.0</td>\n",
       "      <td>budapest_data_science</td>\n",
       "    </tr>\n",
       "  </tbody>\n",
       "</table>\n",
       "</div>"
      ],
      "text/plain": [
       "  country      city         joined            name        visited  \\\n",
       "0      hu  Budapest  1464271220000        A. Asbot  1500461845000   \n",
       "1      hu  Budapest  1432103533000  A.J. Lumijärvi  1478694290000   \n",
       "2      hu  Budapest  1474229938000      Ábel Fóthi  1478776809000   \n",
       "3      hu  Budapest  1422875944000    Ábel Melinda  1422875944000   \n",
       "4      hu  Budapest  1469042635000    Abel Oszwald  1469224448000   \n",
       "\n",
       "            id                  group  \n",
       "0  186451270.0  budapest_data_science  \n",
       "1  186768573.0  budapest_data_science  \n",
       "2  151890652.0  budapest_data_science  \n",
       "3  183778449.0  budapest_data_science  \n",
       "4  105964922.0  budapest_data_science  "
      ]
     },
     "execution_count": 112,
     "metadata": {},
     "output_type": "execute_result"
    }
   ],
   "source": [
    "members.head()"
   ]
  },
  {
   "cell_type": "code",
   "execution_count": 113,
   "metadata": {},
   "outputs": [],
   "source": [
    "members = members[members.name.str.contains(\" \")]"
   ]
  },
  {
   "cell_type": "code",
   "execution_count": 114,
   "metadata": {},
   "outputs": [],
   "source": [
    "c = members.merge(members, on=\"group\")[['group','name_x', 'name_y']]"
   ]
  },
  {
   "cell_type": "code",
   "execution_count": 115,
   "metadata": {},
   "outputs": [],
   "source": [
    "c = c[c.name_x != c.name_y]"
   ]
  },
  {
   "cell_type": "code",
   "execution_count": null,
   "metadata": {},
   "outputs": [
    {
     "data": {
      "text/plain": [
       "18658628"
      ]
     },
     "execution_count": 116,
     "metadata": {},
     "output_type": "execute_result"
    }
   ],
   "source": [
    "len(c)"
   ]
  },
  {
   "cell_type": "code",
   "execution_count": null,
   "metadata": {},
   "outputs": [],
   "source": [
    "graph_edges = c.groupby(['name_x', 'name_y'], as_index=False).count()"
   ]
  },
  {
   "cell_type": "code",
   "execution_count": null,
   "metadata": {},
   "outputs": [],
   "source": [
    "filtered_edges = graph_edges[graph_edges.group > 10]"
   ]
  },
  {
   "cell_type": "code",
   "execution_count": null,
   "metadata": {},
   "outputs": [],
   "source": [
    "len(filtered_edges)"
   ]
  },
  {
   "cell_type": "code",
   "execution_count": null,
   "metadata": {},
   "outputs": [],
   "source": [
    "filtered_edges.sort_values(by=\"group\", ascending=False).head(23)"
   ]
  },
  {
   "cell_type": "code",
   "execution_count": null,
   "metadata": {},
   "outputs": [],
   "source": [
    "filtered_edges = filtered_edges.rename(columns={\"name_x\": \"Source\", \"name_y\": \"Target\", \"group\": \"Weight\"})"
   ]
  },
  {
   "cell_type": "code",
   "execution_count": null,
   "metadata": {},
   "outputs": [],
   "source": [
    "filtered_edges['Type'] = 'Undirected'"
   ]
  },
  {
   "cell_type": "code",
   "execution_count": null,
   "metadata": {},
   "outputs": [],
   "source": [
    "filtered_edges.head()"
   ]
  },
  {
   "cell_type": "code",
   "execution_count": null,
   "metadata": {},
   "outputs": [],
   "source": [
    "filtered_edges.to_csv('data/meetup-members-graph/edges.csv', header=True, index=False)"
   ]
  },
  {
   "cell_type": "markdown",
   "metadata": {},
   "source": [
    "<span style=\"font-weight: bold;\">*Created with love at Datapao*</span>\n",
    "\n",
    "---\n",
    "<img src=\"logo.png\" alt=\"Drawing\" style=\"width: 100px;\"/>"
   ]
  }
 ],
 "metadata": {
  "kernelspec": {
   "display_name": "Python 3",
   "language": "python",
   "name": "python3"
  },
  "language_info": {
   "codemirror_mode": {
    "name": "ipython",
    "version": 3
   },
   "file_extension": ".py",
   "mimetype": "text/x-python",
   "name": "python",
   "nbconvert_exporter": "python",
   "pygments_lexer": "ipython3",
   "version": "3.6.3"
  }
 },
 "nbformat": 4,
 "nbformat_minor": 2
}
