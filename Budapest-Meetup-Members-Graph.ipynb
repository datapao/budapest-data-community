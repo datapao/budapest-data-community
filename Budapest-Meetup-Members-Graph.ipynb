{
 "cells": [
  {
   "cell_type": "markdown",
   "metadata": {},
   "source": [
    "# <img src=\"http://datapao.com/wp-content/themes/datapao/img/header.svg\" style=\"display:inline\"/>  Budapest Data Meetups\n",
    "\n",
    "This notebook contains the overview of the Budapest Data community through the numbers of the [meetup.com](https://meetup.com).\n",
    "\n",
    "#### Data source\n",
    "If you are interested in the source data, visit [our blog](https://datapao.com/blog/) where we publish our data sources. <br/>\n",
    "On our blog post we share the work of others too! Send us your take on this data.\n",
    "\n",
    "\n",
    "\n",
    "#### Source code\n",
    "This noteboook and the crawlers are available on our [Github site](https://github.com/datapao/budapest-data-community/). \n",
    "\n",
    "\n",
    "---\n",
    "<img src=\"logo.png\" alt=\"Drawing\" style=\"width: 100px;\"/>"
   ]
  },
  {
   "cell_type": "code",
   "execution_count": 32,
   "metadata": {},
   "outputs": [],
   "source": [
    "%matplotlib inline\n",
    "import pandas as pd\n",
    "import matplotlib as plt\n",
    "import numpy as np"
   ]
  },
  {
   "cell_type": "markdown",
   "metadata": {},
   "source": [
    "# Meetup groups graph"
   ]
  },
  {
   "cell_type": "markdown",
   "metadata": {},
   "source": [
    "## Edges"
   ]
  },
  {
   "cell_type": "code",
   "execution_count": 33,
   "metadata": {},
   "outputs": [],
   "source": [
    "members = pd.read_csv(\"data/members_budapest_data.csv\", delimiter=\";\", names=[\"country\",\"city\",\"joined\",\"name\",\"visited\",\"id\",\"group\"])"
   ]
  },
  {
   "cell_type": "code",
   "execution_count": 34,
   "metadata": {},
   "outputs": [
    {
     "data": {
      "text/html": [
       "<div>\n",
       "<style>\n",
       "    .dataframe thead tr:only-child th {\n",
       "        text-align: right;\n",
       "    }\n",
       "\n",
       "    .dataframe thead th {\n",
       "        text-align: left;\n",
       "    }\n",
       "\n",
       "    .dataframe tbody tr th {\n",
       "        vertical-align: top;\n",
       "    }\n",
       "</style>\n",
       "<table border=\"1\" class=\"dataframe\">\n",
       "  <thead>\n",
       "    <tr style=\"text-align: right;\">\n",
       "      <th></th>\n",
       "      <th>country</th>\n",
       "      <th>city</th>\n",
       "      <th>joined</th>\n",
       "      <th>name</th>\n",
       "      <th>visited</th>\n",
       "      <th>id</th>\n",
       "      <th>group</th>\n",
       "    </tr>\n",
       "  </thead>\n",
       "  <tbody>\n",
       "    <tr>\n",
       "      <th>0</th>\n",
       "      <td>hu</td>\n",
       "      <td>Budapest</td>\n",
       "      <td>1464271220000</td>\n",
       "      <td>A. Asbot</td>\n",
       "      <td>1500461845000</td>\n",
       "      <td>186451270.0</td>\n",
       "      <td>budapest_data_science</td>\n",
       "    </tr>\n",
       "    <tr>\n",
       "      <th>1</th>\n",
       "      <td>hu</td>\n",
       "      <td>Budapest</td>\n",
       "      <td>1432103533000</td>\n",
       "      <td>A.J. Lumijärvi</td>\n",
       "      <td>1478694290000</td>\n",
       "      <td>186768573.0</td>\n",
       "      <td>budapest_data_science</td>\n",
       "    </tr>\n",
       "    <tr>\n",
       "      <th>2</th>\n",
       "      <td>hu</td>\n",
       "      <td>Budapest</td>\n",
       "      <td>1474229938000</td>\n",
       "      <td>Ábel Fóthi</td>\n",
       "      <td>1478776809000</td>\n",
       "      <td>151890652.0</td>\n",
       "      <td>budapest_data_science</td>\n",
       "    </tr>\n",
       "    <tr>\n",
       "      <th>3</th>\n",
       "      <td>hu</td>\n",
       "      <td>Budapest</td>\n",
       "      <td>1422875944000</td>\n",
       "      <td>Ábel Melinda</td>\n",
       "      <td>1422875944000</td>\n",
       "      <td>183778449.0</td>\n",
       "      <td>budapest_data_science</td>\n",
       "    </tr>\n",
       "    <tr>\n",
       "      <th>4</th>\n",
       "      <td>hu</td>\n",
       "      <td>Budapest</td>\n",
       "      <td>1469042635000</td>\n",
       "      <td>Abel Oszwald</td>\n",
       "      <td>1469224448000</td>\n",
       "      <td>105964922.0</td>\n",
       "      <td>budapest_data_science</td>\n",
       "    </tr>\n",
       "  </tbody>\n",
       "</table>\n",
       "</div>"
      ],
      "text/plain": [
       "  country      city         joined            name        visited  \\\n",
       "0      hu  Budapest  1464271220000        A. Asbot  1500461845000   \n",
       "1      hu  Budapest  1432103533000  A.J. Lumijärvi  1478694290000   \n",
       "2      hu  Budapest  1474229938000      Ábel Fóthi  1478776809000   \n",
       "3      hu  Budapest  1422875944000    Ábel Melinda  1422875944000   \n",
       "4      hu  Budapest  1469042635000    Abel Oszwald  1469224448000   \n",
       "\n",
       "            id                  group  \n",
       "0  186451270.0  budapest_data_science  \n",
       "1  186768573.0  budapest_data_science  \n",
       "2  151890652.0  budapest_data_science  \n",
       "3  183778449.0  budapest_data_science  \n",
       "4  105964922.0  budapest_data_science  "
      ]
     },
     "execution_count": 34,
     "metadata": {},
     "output_type": "execute_result"
    }
   ],
   "source": [
    "members.head()"
   ]
  },
  {
   "cell_type": "code",
   "execution_count": 35,
   "metadata": {},
   "outputs": [],
   "source": [
    "members = members.drop(['country','city'], axis=1)"
   ]
  },
  {
   "cell_type": "code",
   "execution_count": 36,
   "metadata": {
    "scrolled": true
   },
   "outputs": [
    {
     "data": {
      "text/plain": [
       "name\n",
       "Arató Bence          25\n",
       "Andras Nagy          25\n",
       "Milan Dobri          23\n",
       "Endre Adam           23\n",
       "Csaba Peter          22\n",
       "Zsolt Tóth           22\n",
       "Zoltán Polgár        22\n",
       "Andrew John Lowe     22\n",
       "Zoltan Ludanyi       21\n",
       "Samu Imre            21\n",
       "Siddharth Pandit     20\n",
       "Zoltan C. Toth       20\n",
       "Dániel Berecz        20\n",
       "MobilPhone Andras    20\n",
       "Zoltan Prekopcsak    20\n",
       "Name: group, dtype: int64"
      ]
     },
     "execution_count": 36,
     "metadata": {},
     "output_type": "execute_result"
    }
   ],
   "source": [
    "members[members.name.str.contains(\" \")].groupby(\"name\")[\"group\"].count().sort_values(ascending=False).head(15)"
   ]
  },
  {
   "cell_type": "code",
   "execution_count": 37,
   "metadata": {},
   "outputs": [],
   "source": [
    "c = members.merge(members, on=\"name\")[['name','group_x','group_y']]"
   ]
  },
  {
   "cell_type": "code",
   "execution_count": 38,
   "metadata": {},
   "outputs": [],
   "source": [
    "c = c[c.group_x != c.group_y]"
   ]
  },
  {
   "cell_type": "code",
   "execution_count": 39,
   "metadata": {},
   "outputs": [],
   "source": [
    "c[\"const\"] = 1"
   ]
  },
  {
   "cell_type": "code",
   "execution_count": 40,
   "metadata": {},
   "outputs": [],
   "source": [
    "edges = c.groupby(['group_x', 'group_y'], as_index=False)['const'].count()"
   ]
  },
  {
   "cell_type": "code",
   "execution_count": 41,
   "metadata": {},
   "outputs": [],
   "source": [
    "edges = edges.rename(columns={\"group_x\": \"Source\", \"group_y\": \"Target\", \"const\": \"Weight\"})"
   ]
  },
  {
   "cell_type": "code",
   "execution_count": 42,
   "metadata": {},
   "outputs": [],
   "source": [
    "edges[\"Type\"]=\"Undirected\""
   ]
  },
  {
   "cell_type": "code",
   "execution_count": 43,
   "metadata": {},
   "outputs": [
    {
     "data": {
      "text/html": [
       "<div>\n",
       "<style>\n",
       "    .dataframe thead tr:only-child th {\n",
       "        text-align: right;\n",
       "    }\n",
       "\n",
       "    .dataframe thead th {\n",
       "        text-align: left;\n",
       "    }\n",
       "\n",
       "    .dataframe tbody tr th {\n",
       "        vertical-align: top;\n",
       "    }\n",
       "</style>\n",
       "<table border=\"1\" class=\"dataframe\">\n",
       "  <thead>\n",
       "    <tr style=\"text-align: right;\">\n",
       "      <th></th>\n",
       "      <th>Source</th>\n",
       "      <th>Target</th>\n",
       "      <th>Weight</th>\n",
       "      <th>Type</th>\n",
       "    </tr>\n",
       "  </thead>\n",
       "  <tbody>\n",
       "    <tr>\n",
       "      <th>0</th>\n",
       "      <td>Big-Data-Budapest</td>\n",
       "      <td>Big-Data-Meetup-Budapest</td>\n",
       "      <td>662</td>\n",
       "      <td>Undirected</td>\n",
       "    </tr>\n",
       "    <tr>\n",
       "      <th>1</th>\n",
       "      <td>Big-Data-Budapest</td>\n",
       "      <td>Budapest-Analytics-Rockstars</td>\n",
       "      <td>453</td>\n",
       "      <td>Undirected</td>\n",
       "    </tr>\n",
       "    <tr>\n",
       "      <th>2</th>\n",
       "      <td>Big-Data-Budapest</td>\n",
       "      <td>Budapest-BI-Meetup</td>\n",
       "      <td>401</td>\n",
       "      <td>Undirected</td>\n",
       "    </tr>\n",
       "    <tr>\n",
       "      <th>3</th>\n",
       "      <td>Big-Data-Budapest</td>\n",
       "      <td>Budapest-Cassandra-Users</td>\n",
       "      <td>45</td>\n",
       "      <td>Undirected</td>\n",
       "    </tr>\n",
       "    <tr>\n",
       "      <th>4</th>\n",
       "      <td>Big-Data-Budapest</td>\n",
       "      <td>Budapest-Data-Projects-Meetup</td>\n",
       "      <td>307</td>\n",
       "      <td>Undirected</td>\n",
       "    </tr>\n",
       "  </tbody>\n",
       "</table>\n",
       "</div>"
      ],
      "text/plain": [
       "              Source                         Target  Weight        Type\n",
       "0  Big-Data-Budapest       Big-Data-Meetup-Budapest     662  Undirected\n",
       "1  Big-Data-Budapest   Budapest-Analytics-Rockstars     453  Undirected\n",
       "2  Big-Data-Budapest             Budapest-BI-Meetup     401  Undirected\n",
       "3  Big-Data-Budapest       Budapest-Cassandra-Users      45  Undirected\n",
       "4  Big-Data-Budapest  Budapest-Data-Projects-Meetup     307  Undirected"
      ]
     },
     "execution_count": 43,
     "metadata": {},
     "output_type": "execute_result"
    }
   ],
   "source": [
    "edges.head()"
   ]
  },
  {
   "cell_type": "code",
   "execution_count": 44,
   "metadata": {},
   "outputs": [],
   "source": [
    "edges.to_csv('data/meetup-groups-graph/edges.csv', header=True, index=False)"
   ]
  },
  {
   "cell_type": "markdown",
   "metadata": {},
   "source": [
    "## Nodes"
   ]
  },
  {
   "cell_type": "code",
   "execution_count": 45,
   "metadata": {},
   "outputs": [],
   "source": [
    "meetups = pd.read_csv(\"data/meetup_groups_budapest_data.csv\", names=[\"rating\",\"name\",\"id\",\"urlname\",\"member\"],delimiter=\";\")\n",
    "meetups = meetups[[\"urlname\",\"name\",\"member\"]]"
   ]
  },
  {
   "cell_type": "code",
   "execution_count": 46,
   "metadata": {},
   "outputs": [],
   "source": [
    "meetups = meetups.rename(columns={\"urlname\": \"Id\", \"name\": \"Label\", \"member\": \"Weight\"})"
   ]
  },
  {
   "cell_type": "code",
   "execution_count": 47,
   "metadata": {},
   "outputs": [
    {
     "data": {
      "text/html": [
       "<div>\n",
       "<style>\n",
       "    .dataframe thead tr:only-child th {\n",
       "        text-align: right;\n",
       "    }\n",
       "\n",
       "    .dataframe thead th {\n",
       "        text-align: left;\n",
       "    }\n",
       "\n",
       "    .dataframe tbody tr th {\n",
       "        vertical-align: top;\n",
       "    }\n",
       "</style>\n",
       "<table border=\"1\" class=\"dataframe\">\n",
       "  <thead>\n",
       "    <tr style=\"text-align: right;\">\n",
       "      <th></th>\n",
       "      <th>Id</th>\n",
       "      <th>Label</th>\n",
       "      <th>Weight</th>\n",
       "    </tr>\n",
       "  </thead>\n",
       "  <tbody>\n",
       "    <tr>\n",
       "      <th>0</th>\n",
       "      <td>budapest_data_science</td>\n",
       "      <td>Budapest Data Science Meetup</td>\n",
       "      <td>2711</td>\n",
       "    </tr>\n",
       "    <tr>\n",
       "      <th>1</th>\n",
       "      <td>HUG-MSSQL</td>\n",
       "      <td>HUG-MSSQL</td>\n",
       "      <td>399</td>\n",
       "    </tr>\n",
       "    <tr>\n",
       "      <th>2</th>\n",
       "      <td>Hungarian-nlp</td>\n",
       "      <td>Hungarian Natural Language Processing Meetup</td>\n",
       "      <td>968</td>\n",
       "    </tr>\n",
       "    <tr>\n",
       "      <th>3</th>\n",
       "      <td>KURT_Akademia</td>\n",
       "      <td>KÜRT Akadémia meetupok</td>\n",
       "      <td>484</td>\n",
       "    </tr>\n",
       "    <tr>\n",
       "      <th>4</th>\n",
       "      <td>Big-Data-Meetup-Budapest</td>\n",
       "      <td>Budapest Big Data Meetup</td>\n",
       "      <td>1906</td>\n",
       "    </tr>\n",
       "  </tbody>\n",
       "</table>\n",
       "</div>"
      ],
      "text/plain": [
       "                         Id                                         Label  \\\n",
       "0     budapest_data_science                  Budapest Data Science Meetup   \n",
       "1                 HUG-MSSQL                                     HUG-MSSQL   \n",
       "2             Hungarian-nlp  Hungarian Natural Language Processing Meetup   \n",
       "3             KURT_Akademia                        KÜRT Akadémia meetupok   \n",
       "4  Big-Data-Meetup-Budapest                      Budapest Big Data Meetup   \n",
       "\n",
       "   Weight  \n",
       "0    2711  \n",
       "1     399  \n",
       "2     968  \n",
       "3     484  \n",
       "4    1906  "
      ]
     },
     "execution_count": 47,
     "metadata": {},
     "output_type": "execute_result"
    }
   ],
   "source": [
    "meetups.head()"
   ]
  },
  {
   "cell_type": "code",
   "execution_count": 48,
   "metadata": {},
   "outputs": [],
   "source": [
    "meetups.to_csv('data/meetup-groups-graph/nodes.csv', header=True, index=False)"
   ]
  },
  {
   "cell_type": "markdown",
   "metadata": {},
   "source": [
    "# Social fabric graph "
   ]
  },
  {
   "cell_type": "code",
   "execution_count": 49,
   "metadata": {},
   "outputs": [],
   "source": [
    "members = pd.read_csv(\"data/members_budapest_data.csv\", delimiter=\";\", names=[\"country\",\"city\",\"joined\",\"name\",\"visited\",\"id\",\"group\"])"
   ]
  },
  {
   "cell_type": "code",
   "execution_count": 50,
   "metadata": {},
   "outputs": [
    {
     "data": {
      "text/html": [
       "<div>\n",
       "<style>\n",
       "    .dataframe thead tr:only-child th {\n",
       "        text-align: right;\n",
       "    }\n",
       "\n",
       "    .dataframe thead th {\n",
       "        text-align: left;\n",
       "    }\n",
       "\n",
       "    .dataframe tbody tr th {\n",
       "        vertical-align: top;\n",
       "    }\n",
       "</style>\n",
       "<table border=\"1\" class=\"dataframe\">\n",
       "  <thead>\n",
       "    <tr style=\"text-align: right;\">\n",
       "      <th></th>\n",
       "      <th>country</th>\n",
       "      <th>city</th>\n",
       "      <th>joined</th>\n",
       "      <th>name</th>\n",
       "      <th>visited</th>\n",
       "      <th>id</th>\n",
       "      <th>group</th>\n",
       "    </tr>\n",
       "  </thead>\n",
       "  <tbody>\n",
       "    <tr>\n",
       "      <th>0</th>\n",
       "      <td>hu</td>\n",
       "      <td>Budapest</td>\n",
       "      <td>1464271220000</td>\n",
       "      <td>A. Asbot</td>\n",
       "      <td>1500461845000</td>\n",
       "      <td>186451270.0</td>\n",
       "      <td>budapest_data_science</td>\n",
       "    </tr>\n",
       "    <tr>\n",
       "      <th>1</th>\n",
       "      <td>hu</td>\n",
       "      <td>Budapest</td>\n",
       "      <td>1432103533000</td>\n",
       "      <td>A.J. Lumijärvi</td>\n",
       "      <td>1478694290000</td>\n",
       "      <td>186768573.0</td>\n",
       "      <td>budapest_data_science</td>\n",
       "    </tr>\n",
       "    <tr>\n",
       "      <th>2</th>\n",
       "      <td>hu</td>\n",
       "      <td>Budapest</td>\n",
       "      <td>1474229938000</td>\n",
       "      <td>Ábel Fóthi</td>\n",
       "      <td>1478776809000</td>\n",
       "      <td>151890652.0</td>\n",
       "      <td>budapest_data_science</td>\n",
       "    </tr>\n",
       "    <tr>\n",
       "      <th>3</th>\n",
       "      <td>hu</td>\n",
       "      <td>Budapest</td>\n",
       "      <td>1422875944000</td>\n",
       "      <td>Ábel Melinda</td>\n",
       "      <td>1422875944000</td>\n",
       "      <td>183778449.0</td>\n",
       "      <td>budapest_data_science</td>\n",
       "    </tr>\n",
       "    <tr>\n",
       "      <th>4</th>\n",
       "      <td>hu</td>\n",
       "      <td>Budapest</td>\n",
       "      <td>1469042635000</td>\n",
       "      <td>Abel Oszwald</td>\n",
       "      <td>1469224448000</td>\n",
       "      <td>105964922.0</td>\n",
       "      <td>budapest_data_science</td>\n",
       "    </tr>\n",
       "  </tbody>\n",
       "</table>\n",
       "</div>"
      ],
      "text/plain": [
       "  country      city         joined            name        visited  \\\n",
       "0      hu  Budapest  1464271220000        A. Asbot  1500461845000   \n",
       "1      hu  Budapest  1432103533000  A.J. Lumijärvi  1478694290000   \n",
       "2      hu  Budapest  1474229938000      Ábel Fóthi  1478776809000   \n",
       "3      hu  Budapest  1422875944000    Ábel Melinda  1422875944000   \n",
       "4      hu  Budapest  1469042635000    Abel Oszwald  1469224448000   \n",
       "\n",
       "            id                  group  \n",
       "0  186451270.0  budapest_data_science  \n",
       "1  186768573.0  budapest_data_science  \n",
       "2  151890652.0  budapest_data_science  \n",
       "3  183778449.0  budapest_data_science  \n",
       "4  105964922.0  budapest_data_science  "
      ]
     },
     "execution_count": 50,
     "metadata": {},
     "output_type": "execute_result"
    }
   ],
   "source": [
    "members.head()"
   ]
  },
  {
   "cell_type": "code",
   "execution_count": 51,
   "metadata": {},
   "outputs": [],
   "source": [
    "members = members[members.name.str.contains(\" \")]"
   ]
  },
  {
   "cell_type": "code",
   "execution_count": 52,
   "metadata": {},
   "outputs": [],
   "source": [
    "c = members.merge(members, on=\"group\")[['group','name_x', 'name_y']]"
   ]
  },
  {
   "cell_type": "code",
   "execution_count": 53,
   "metadata": {},
   "outputs": [],
   "source": [
    "c = c[c.name_x != c.name_y]"
   ]
  },
  {
   "cell_type": "code",
   "execution_count": 54,
   "metadata": {},
   "outputs": [
    {
     "data": {
      "text/plain": [
       "18658628"
      ]
     },
     "execution_count": 54,
     "metadata": {},
     "output_type": "execute_result"
    }
   ],
   "source": [
    "len(c)"
   ]
  },
  {
   "cell_type": "code",
   "execution_count": 55,
   "metadata": {},
   "outputs": [],
   "source": [
    "graph_edges = c.groupby(['name_x', 'name_y'], as_index=False).count()"
   ]
  },
  {
   "cell_type": "code",
   "execution_count": 56,
   "metadata": {},
   "outputs": [],
   "source": [
    "filtered_edges = graph_edges[graph_edges.group > 10]"
   ]
  },
  {
   "cell_type": "code",
   "execution_count": 57,
   "metadata": {},
   "outputs": [
    {
     "data": {
      "text/plain": [
       "8250"
      ]
     },
     "execution_count": 57,
     "metadata": {},
     "output_type": "execute_result"
    }
   ],
   "source": [
    "len(filtered_edges)"
   ]
  },
  {
   "cell_type": "code",
   "execution_count": 58,
   "metadata": {},
   "outputs": [
    {
     "data": {
      "text/html": [
       "<div>\n",
       "<style>\n",
       "    .dataframe thead tr:only-child th {\n",
       "        text-align: right;\n",
       "    }\n",
       "\n",
       "    .dataframe thead th {\n",
       "        text-align: left;\n",
       "    }\n",
       "\n",
       "    .dataframe tbody tr th {\n",
       "        vertical-align: top;\n",
       "    }\n",
       "</style>\n",
       "<table border=\"1\" class=\"dataframe\">\n",
       "  <thead>\n",
       "    <tr style=\"text-align: right;\">\n",
       "      <th></th>\n",
       "      <th>name_x</th>\n",
       "      <th>name_y</th>\n",
       "      <th>group</th>\n",
       "    </tr>\n",
       "  </thead>\n",
       "  <tbody>\n",
       "    <tr>\n",
       "      <th>595595</th>\n",
       "      <td>Andras Nagy</td>\n",
       "      <td>Siddharth Pandit</td>\n",
       "      <td>27</td>\n",
       "    </tr>\n",
       "    <tr>\n",
       "      <th>594613</th>\n",
       "      <td>Andras Nagy</td>\n",
       "      <td>Molnár Tamás</td>\n",
       "      <td>27</td>\n",
       "    </tr>\n",
       "    <tr>\n",
       "      <th>10470975</th>\n",
       "      <td>Siddharth Pandit</td>\n",
       "      <td>Andras Nagy</td>\n",
       "      <td>27</td>\n",
       "    </tr>\n",
       "    <tr>\n",
       "      <th>8368417</th>\n",
       "      <td>Molnár Tamás</td>\n",
       "      <td>Andras Nagy</td>\n",
       "      <td>27</td>\n",
       "    </tr>\n",
       "    <tr>\n",
       "      <th>3357407</th>\n",
       "      <td>Dániel Berecz</td>\n",
       "      <td>Andras Nagy</td>\n",
       "      <td>26</td>\n",
       "    </tr>\n",
       "    <tr>\n",
       "      <th>592381</th>\n",
       "      <td>Andras Nagy</td>\n",
       "      <td>Dániel Berecz</td>\n",
       "      <td>26</td>\n",
       "    </tr>\n",
       "    <tr>\n",
       "      <th>10728452</th>\n",
       "      <td>Szabó Gábor</td>\n",
       "      <td>Andras Nagy</td>\n",
       "      <td>24</td>\n",
       "    </tr>\n",
       "    <tr>\n",
       "      <th>596534</th>\n",
       "      <td>Andras Nagy</td>\n",
       "      <td>Zoltán Polgár</td>\n",
       "      <td>24</td>\n",
       "    </tr>\n",
       "    <tr>\n",
       "      <th>591344</th>\n",
       "      <td>Andras Nagy</td>\n",
       "      <td>Arató Bence</td>\n",
       "      <td>24</td>\n",
       "    </tr>\n",
       "    <tr>\n",
       "      <th>1072855</th>\n",
       "      <td>Arató Bence</td>\n",
       "      <td>Andras Nagy</td>\n",
       "      <td>24</td>\n",
       "    </tr>\n",
       "    <tr>\n",
       "      <th>595711</th>\n",
       "      <td>Andras Nagy</td>\n",
       "      <td>Szabó Gábor</td>\n",
       "      <td>24</td>\n",
       "    </tr>\n",
       "    <tr>\n",
       "      <th>12578929</th>\n",
       "      <td>Zoltán Polgár</td>\n",
       "      <td>Andras Nagy</td>\n",
       "      <td>24</td>\n",
       "    </tr>\n",
       "    <tr>\n",
       "      <th>12438755</th>\n",
       "      <td>Zoltan Prekopcsak</td>\n",
       "      <td>Andras Nagy</td>\n",
       "      <td>23</td>\n",
       "    </tr>\n",
       "    <tr>\n",
       "      <th>7926339</th>\n",
       "      <td>Marton Ancsan</td>\n",
       "      <td>Andras Nagy</td>\n",
       "      <td>23</td>\n",
       "    </tr>\n",
       "    <tr>\n",
       "      <th>8318390</th>\n",
       "      <td>MobilPhone Andras</td>\n",
       "      <td>Andras Nagy</td>\n",
       "      <td>23</td>\n",
       "    </tr>\n",
       "    <tr>\n",
       "      <th>2538023</th>\n",
       "      <td>Csaba Peter</td>\n",
       "      <td>Andras Nagy</td>\n",
       "      <td>23</td>\n",
       "    </tr>\n",
       "    <tr>\n",
       "      <th>594428</th>\n",
       "      <td>Andras Nagy</td>\n",
       "      <td>Marton Ancsan</td>\n",
       "      <td>23</td>\n",
       "    </tr>\n",
       "    <tr>\n",
       "      <th>594593</th>\n",
       "      <td>Andras Nagy</td>\n",
       "      <td>MobilPhone Andras</td>\n",
       "      <td>23</td>\n",
       "    </tr>\n",
       "    <tr>\n",
       "      <th>12816498</th>\n",
       "      <td>Zsolt Tóth</td>\n",
       "      <td>Andras Nagy</td>\n",
       "      <td>23</td>\n",
       "    </tr>\n",
       "    <tr>\n",
       "      <th>596469</th>\n",
       "      <td>Andras Nagy</td>\n",
       "      <td>Zoltan Prekopcsak</td>\n",
       "      <td>23</td>\n",
       "    </tr>\n",
       "    <tr>\n",
       "      <th>12368075</th>\n",
       "      <td>Zoltan C. Toth</td>\n",
       "      <td>Andras Nagy</td>\n",
       "      <td>23</td>\n",
       "    </tr>\n",
       "    <tr>\n",
       "      <th>592532</th>\n",
       "      <td>Andras Nagy</td>\n",
       "      <td>Endre Adam</td>\n",
       "      <td>23</td>\n",
       "    </tr>\n",
       "    <tr>\n",
       "      <th>596437</th>\n",
       "      <td>Andras Nagy</td>\n",
       "      <td>Zoltan C. Toth</td>\n",
       "      <td>23</td>\n",
       "    </tr>\n",
       "  </tbody>\n",
       "</table>\n",
       "</div>"
      ],
      "text/plain": [
       "                     name_x             name_y  group\n",
       "595595          Andras Nagy   Siddharth Pandit     27\n",
       "594613          Andras Nagy       Molnár Tamás     27\n",
       "10470975   Siddharth Pandit        Andras Nagy     27\n",
       "8368417        Molnár Tamás        Andras Nagy     27\n",
       "3357407       Dániel Berecz        Andras Nagy     26\n",
       "592381          Andras Nagy      Dániel Berecz     26\n",
       "10728452        Szabó Gábor        Andras Nagy     24\n",
       "596534          Andras Nagy      Zoltán Polgár     24\n",
       "591344          Andras Nagy        Arató Bence     24\n",
       "1072855         Arató Bence        Andras Nagy     24\n",
       "595711          Andras Nagy        Szabó Gábor     24\n",
       "12578929      Zoltán Polgár        Andras Nagy     24\n",
       "12438755  Zoltan Prekopcsak        Andras Nagy     23\n",
       "7926339       Marton Ancsan        Andras Nagy     23\n",
       "8318390   MobilPhone Andras        Andras Nagy     23\n",
       "2538023         Csaba Peter        Andras Nagy     23\n",
       "594428          Andras Nagy      Marton Ancsan     23\n",
       "594593          Andras Nagy  MobilPhone Andras     23\n",
       "12816498         Zsolt Tóth        Andras Nagy     23\n",
       "596469          Andras Nagy  Zoltan Prekopcsak     23\n",
       "12368075     Zoltan C. Toth        Andras Nagy     23\n",
       "592532          Andras Nagy         Endre Adam     23\n",
       "596437          Andras Nagy     Zoltan C. Toth     23"
      ]
     },
     "execution_count": 58,
     "metadata": {},
     "output_type": "execute_result"
    }
   ],
   "source": [
    "filtered_edges.sort_values(by=\"group\", ascending=False).head(23)"
   ]
  },
  {
   "cell_type": "code",
   "execution_count": 59,
   "metadata": {},
   "outputs": [],
   "source": [
    "filtered_edges = filtered_edges.rename(columns={\"name_x\": \"Source\", \"name_y\": \"Target\", \"group\": \"Weight\"})"
   ]
  },
  {
   "cell_type": "code",
   "execution_count": 60,
   "metadata": {},
   "outputs": [],
   "source": [
    "filtered_edges['Type'] = 'Undirected'"
   ]
  },
  {
   "cell_type": "code",
   "execution_count": 61,
   "metadata": {},
   "outputs": [
    {
     "data": {
      "text/html": [
       "<div>\n",
       "<style>\n",
       "    .dataframe thead tr:only-child th {\n",
       "        text-align: right;\n",
       "    }\n",
       "\n",
       "    .dataframe thead th {\n",
       "        text-align: left;\n",
       "    }\n",
       "\n",
       "    .dataframe tbody tr th {\n",
       "        vertical-align: top;\n",
       "    }\n",
       "</style>\n",
       "<table border=\"1\" class=\"dataframe\">\n",
       "  <thead>\n",
       "    <tr style=\"text-align: right;\">\n",
       "      <th></th>\n",
       "      <th>Source</th>\n",
       "      <th>Target</th>\n",
       "      <th>Weight</th>\n",
       "      <th>Type</th>\n",
       "    </tr>\n",
       "  </thead>\n",
       "  <tbody>\n",
       "    <tr>\n",
       "      <th>5412</th>\n",
       "      <td>A. Asbot</td>\n",
       "      <td>Molnár Tamás</td>\n",
       "      <td>11</td>\n",
       "      <td>Undirected</td>\n",
       "    </tr>\n",
       "    <tr>\n",
       "      <th>19343</th>\n",
       "      <td>Ableda Péter</td>\n",
       "      <td>Andras Nagy</td>\n",
       "      <td>13</td>\n",
       "      <td>Undirected</td>\n",
       "    </tr>\n",
       "    <tr>\n",
       "      <th>60370</th>\n",
       "      <td>Adam Gabor</td>\n",
       "      <td>Andras Nagy</td>\n",
       "      <td>16</td>\n",
       "      <td>Undirected</td>\n",
       "    </tr>\n",
       "    <tr>\n",
       "      <th>61391</th>\n",
       "      <td>Adam Gabor</td>\n",
       "      <td>Dániel Berecz</td>\n",
       "      <td>11</td>\n",
       "      <td>Undirected</td>\n",
       "    </tr>\n",
       "    <tr>\n",
       "      <th>63205</th>\n",
       "      <td>Adam Gabor</td>\n",
       "      <td>Molnár Tamás</td>\n",
       "      <td>13</td>\n",
       "      <td>Undirected</td>\n",
       "    </tr>\n",
       "  </tbody>\n",
       "</table>\n",
       "</div>"
      ],
      "text/plain": [
       "             Source         Target  Weight        Type\n",
       "5412       A. Asbot   Molnár Tamás      11  Undirected\n",
       "19343  Ableda Péter    Andras Nagy      13  Undirected\n",
       "60370    Adam Gabor    Andras Nagy      16  Undirected\n",
       "61391    Adam Gabor  Dániel Berecz      11  Undirected\n",
       "63205    Adam Gabor   Molnár Tamás      13  Undirected"
      ]
     },
     "execution_count": 61,
     "metadata": {},
     "output_type": "execute_result"
    }
   ],
   "source": [
    "filtered_edges.head()"
   ]
  },
  {
   "cell_type": "code",
   "execution_count": 62,
   "metadata": {},
   "outputs": [
    {
     "ename": "FileNotFoundError",
     "evalue": "[Errno 2] No such file or directory: 'data/social-graph/edges.csv'",
     "output_type": "error",
     "traceback": [
      "\u001b[0;31m---------------------------------------------------------------------------\u001b[0m",
      "\u001b[0;31mFileNotFoundError\u001b[0m                         Traceback (most recent call last)",
      "\u001b[0;32m<ipython-input-62-0dd882d5ac61>\u001b[0m in \u001b[0;36m<module>\u001b[0;34m()\u001b[0m\n\u001b[0;32m----> 1\u001b[0;31m \u001b[0mfiltered_edges\u001b[0m\u001b[0;34m.\u001b[0m\u001b[0mto_csv\u001b[0m\u001b[0;34m(\u001b[0m\u001b[0;34m'data/social-graph/edges.csv'\u001b[0m\u001b[0;34m,\u001b[0m \u001b[0mheader\u001b[0m\u001b[0;34m=\u001b[0m\u001b[0;32mTrue\u001b[0m\u001b[0;34m,\u001b[0m \u001b[0mindex\u001b[0m\u001b[0;34m=\u001b[0m\u001b[0;32mFalse\u001b[0m\u001b[0;34m)\u001b[0m\u001b[0;34m\u001b[0m\u001b[0m\n\u001b[0m",
      "\u001b[0;32m/usr/local/lib/python3.6/site-packages/pandas/core/frame.py\u001b[0m in \u001b[0;36mto_csv\u001b[0;34m(self, path_or_buf, sep, na_rep, float_format, columns, header, index, index_label, mode, encoding, compression, quoting, quotechar, line_terminator, chunksize, tupleize_cols, date_format, doublequote, escapechar, decimal)\u001b[0m\n\u001b[1;32m   1401\u001b[0m                                      \u001b[0mdoublequote\u001b[0m\u001b[0;34m=\u001b[0m\u001b[0mdoublequote\u001b[0m\u001b[0;34m,\u001b[0m\u001b[0;34m\u001b[0m\u001b[0m\n\u001b[1;32m   1402\u001b[0m                                      escapechar=escapechar, decimal=decimal)\n\u001b[0;32m-> 1403\u001b[0;31m         \u001b[0mformatter\u001b[0m\u001b[0;34m.\u001b[0m\u001b[0msave\u001b[0m\u001b[0;34m(\u001b[0m\u001b[0;34m)\u001b[0m\u001b[0;34m\u001b[0m\u001b[0m\n\u001b[0m\u001b[1;32m   1404\u001b[0m \u001b[0;34m\u001b[0m\u001b[0m\n\u001b[1;32m   1405\u001b[0m         \u001b[0;32mif\u001b[0m \u001b[0mpath_or_buf\u001b[0m \u001b[0;32mis\u001b[0m \u001b[0;32mNone\u001b[0m\u001b[0;34m:\u001b[0m\u001b[0;34m\u001b[0m\u001b[0m\n",
      "\u001b[0;32m/usr/local/lib/python3.6/site-packages/pandas/io/formats/format.py\u001b[0m in \u001b[0;36msave\u001b[0;34m(self)\u001b[0m\n\u001b[1;32m   1575\u001b[0m             f, handles = _get_handle(self.path_or_buf, self.mode,\n\u001b[1;32m   1576\u001b[0m                                      \u001b[0mencoding\u001b[0m\u001b[0;34m=\u001b[0m\u001b[0mself\u001b[0m\u001b[0;34m.\u001b[0m\u001b[0mencoding\u001b[0m\u001b[0;34m,\u001b[0m\u001b[0;34m\u001b[0m\u001b[0m\n\u001b[0;32m-> 1577\u001b[0;31m                                      compression=self.compression)\n\u001b[0m\u001b[1;32m   1578\u001b[0m             \u001b[0mclose\u001b[0m \u001b[0;34m=\u001b[0m \u001b[0;32mTrue\u001b[0m\u001b[0;34m\u001b[0m\u001b[0m\n\u001b[1;32m   1579\u001b[0m \u001b[0;34m\u001b[0m\u001b[0m\n",
      "\u001b[0;32m/usr/local/lib/python3.6/site-packages/pandas/io/common.py\u001b[0m in \u001b[0;36m_get_handle\u001b[0;34m(path_or_buf, mode, encoding, compression, memory_map, is_text)\u001b[0m\n\u001b[1;32m    383\u001b[0m         \u001b[0;32melif\u001b[0m \u001b[0mis_text\u001b[0m\u001b[0;34m:\u001b[0m\u001b[0;34m\u001b[0m\u001b[0m\n\u001b[1;32m    384\u001b[0m             \u001b[0;31m# Python 3 and no explicit encoding\u001b[0m\u001b[0;34m\u001b[0m\u001b[0;34m\u001b[0m\u001b[0m\n\u001b[0;32m--> 385\u001b[0;31m             \u001b[0mf\u001b[0m \u001b[0;34m=\u001b[0m \u001b[0mopen\u001b[0m\u001b[0;34m(\u001b[0m\u001b[0mpath_or_buf\u001b[0m\u001b[0;34m,\u001b[0m \u001b[0mmode\u001b[0m\u001b[0;34m,\u001b[0m \u001b[0merrors\u001b[0m\u001b[0;34m=\u001b[0m\u001b[0;34m'replace'\u001b[0m\u001b[0;34m)\u001b[0m\u001b[0;34m\u001b[0m\u001b[0m\n\u001b[0m\u001b[1;32m    386\u001b[0m         \u001b[0;32melse\u001b[0m\u001b[0;34m:\u001b[0m\u001b[0;34m\u001b[0m\u001b[0m\n\u001b[1;32m    387\u001b[0m             \u001b[0;31m# Python 3 and binary mode\u001b[0m\u001b[0;34m\u001b[0m\u001b[0;34m\u001b[0m\u001b[0m\n",
      "\u001b[0;31mFileNotFoundError\u001b[0m: [Errno 2] No such file or directory: 'data/social-graph/edges.csv'"
     ]
    }
   ],
   "source": [
    "filtered_edges.to_csv('data/social-graph/edges.csv', header=True, index=False)"
   ]
  },
  {
   "cell_type": "code",
   "execution_count": null,
   "metadata": {},
   "outputs": [],
   "source": []
  }
 ],
 "metadata": {
  "kernelspec": {
   "display_name": "Python 3",
   "language": "python",
   "name": "python3"
  },
  "language_info": {
   "codemirror_mode": {
    "name": "ipython",
    "version": 3
   },
   "file_extension": ".py",
   "mimetype": "text/x-python",
   "name": "python",
   "nbconvert_exporter": "python",
   "pygments_lexer": "ipython3",
   "version": "3.6.3"
  }
 },
 "nbformat": 4,
 "nbformat_minor": 2
}
